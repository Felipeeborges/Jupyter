{
 "cells": [
  {
   "cell_type": "code",
   "execution_count": 1,
   "id": "9ac71839-d18c-4f34-83f4-c095e059da0b",
   "metadata": {
    "collapsed": true,
    "jupyter": {
     "outputs_hidden": true,
     "source_hidden": true
    },
    "scrolled": true
   },
   "outputs": [
    {
     "name": "stdout",
     "output_type": "stream",
     "text": [
      "Collecting CoolProp\n",
      "  Downloading CoolProp-6.6.0-cp312-cp312-win_amd64.whl.metadata (570 bytes)\n",
      "Downloading CoolProp-6.6.0-cp312-cp312-win_amd64.whl (2.0 MB)\n",
      "   ---------------------------------------- 0.0/2.0 MB ? eta -:--:--\n",
      "   ---------------------------------------- 0.0/2.0 MB ? eta -:--:--\n",
      "   ---------------------------------------- 0.0/2.0 MB ? eta -:--:--\n",
      "   ---------------------------------------- 0.0/2.0 MB 108.9 kB/s eta 0:00:19\n",
      "   ---------------------------------------- 0.0/2.0 MB 108.9 kB/s eta 0:00:19\n",
      "    --------------------------------------- 0.0/2.0 MB 178.6 kB/s eta 0:00:12\n",
      "   - -------------------------------------- 0.1/2.0 MB 233.8 kB/s eta 0:00:09\n",
      "   --- ------------------------------------ 0.2/2.0 MB 583.1 kB/s eta 0:00:04\n",
      "   ------- -------------------------------- 0.4/2.0 MB 1.2 MB/s eta 0:00:02\n",
      "   ---------------- ----------------------- 0.8/2.0 MB 2.3 MB/s eta 0:00:01\n",
      "   -------------------- ------------------- 1.0/2.0 MB 2.8 MB/s eta 0:00:01\n",
      "   -------------------- ------------------- 1.0/2.0 MB 2.8 MB/s eta 0:00:01\n",
      "   ---------------------------------------  2.0/2.0 MB 4.1 MB/s eta 0:00:01\n",
      "   ---------------------------------------  2.0/2.0 MB 4.1 MB/s eta 0:00:01\n",
      "   ---------------------------------------  2.0/2.0 MB 4.1 MB/s eta 0:00:01\n",
      "   ---------------------------------------  2.0/2.0 MB 4.1 MB/s eta 0:00:01\n",
      "   ---------------------------------------- 2.0/2.0 MB 3.1 MB/s eta 0:00:00\n",
      "Installing collected packages: CoolProp\n",
      "Successfully installed CoolProp-6.6.0\n"
     ]
    }
   ],
   "source": [
    "!pip install CoolProp"
   ]
  },
  {
   "cell_type": "code",
   "execution_count": 7,
   "id": "c7016a50-a7c9-402e-961d-c67a6bfbf631",
   "metadata": {
    "scrolled": true
   },
   "outputs": [
    {
     "name": "stdout",
     "output_type": "stream",
     "text": [
      "Density of water at 550 K and 100 Kpa: 0.39506927250389007 kg/^3\n"
     ]
    }
   ],
   "source": [
    "%reset -f\n",
    "from numpy import *\n",
    "from matplotlib.pyplot import *\n",
    "import CoolProp.CoolProp as CP\n",
    "\n",
    "# Find the density of water at 300 K and 100 KPA\n",
    "density = CP.PropsSI('D', 'T', 550, 'P', 100e3, 'water')\n",
    "print('Density of water at 550 K and 100 Kpa:', density, 'kg/^3')"
   ]
  },
  {
   "cell_type": "code",
   "execution_count": 21,
   "id": "f55eb241-2a39-4aaf-b031-94ee760ee338",
   "metadata": {},
   "outputs": [
    {
     "data": {
      "text/plain": [
       "[<matplotlib.lines.Line2D at 0x201989daba0>]"
      ]
     },
     "execution_count": 21,
     "metadata": {},
     "output_type": "execute_result"
    },
    {
     "data": {
      "image/png": "[encoded data removed]",
      "text/plain": [
       "<Figure size 640x480 with 1 Axes>"
      ]
     },
     "metadata": {},
     "output_type": "display_data"
    }
   ],
   "source": [
    "%reset -f\n",
    "\n",
    "from numpy import *\n",
    "from matplotlib.pyplot import * \n",
    "import CoolProp.CoolProp as CP\n",
    "\n",
    "specific_volume = linspace(0.001, 3, 100)\n",
    "density = 1/specific_volume\n",
    "\n",
    "T1 = 400 + 273.15\n",
    "P1 = CP.PropsSI('P', 'D', density, 'T', T1, 'water')\n",
    "plot(specific_volume,P1)\n",
    "#semilogy(specific_volume,P1)"
   ]
  },
  {
   "cell_type": "code",
   "execution_count": null,
   "id": "d7565248-99de-4a9a-a2d1-49d9489c20c7",
   "metadata": {},
   "outputs": [],
   "source": []
  }
 ],
 "metadata": {
  "kernelspec": {
   "display_name": "Python 3 (ipykernel)",
   "language": "python",
   "name": "python3"
  },
  "language_info": {
   "codemirror_mode": {
    "name": "ipython",
    "version": 3
   },
   "file_extension": ".py",
   "mimetype": "text/x-python",
   "name": "python",
   "nbconvert_exporter": "python",
   "pygments_lexer": "ipython3",
   "version": "3.12.4"
  }
 },
 "nbformat": 4,
 "nbformat_minor": 5
}
