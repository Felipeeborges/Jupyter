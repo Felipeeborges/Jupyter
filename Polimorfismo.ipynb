{
 "cells": [
  {
   "cell_type": "code",
   "execution_count": 1,
   "metadata": {},
   "outputs": [],
   "source": [
    "class veiculos:\n",
    "\n",
    "    def __init__(self, marca, modelo):\n",
    "        self.marca = marca\n",
    "        self.modelo = modelo\n",
    "    \n",
    "    def acelerar(self):\n",
    "        pass\n",
    "\n",
    "    def frear(self):\n",
    "        pass"
   ]
  },
  {
   "cell_type": "code",
   "execution_count": 2,
   "metadata": {},
   "outputs": [],
   "source": [
    "class carro(veiculos):\n",
    "\n",
    "    def acelerar(self):\n",
    "        print(\"O carro está acelerando\")\n",
    "\n",
    "    def frear(self):\n",
    "        print(\"O carro está freando\")"
   ]
  },
  {
   "cell_type": "code",
   "execution_count": 3,
   "metadata": {},
   "outputs": [],
   "source": [
    "class moto(veiculos):\n",
    "\n",
    "    def acelerar(self):\n",
    "        print(\"A moto está acelerando\")\n",
    "\n",
    "    def frear(self):\n",
    "        print(\"A moto está freando\")"
   ]
  },
  {
   "cell_type": "code",
   "execution_count": 4,
   "metadata": {},
   "outputs": [],
   "source": [
    "class aviao(veiculos):\n",
    "\n",
    "    def acelerar(self):\n",
    "        print(\"O avião está acelerando\")\n",
    "\n",
    "    def frear(self):\n",
    "        print(\"O avião está freando\")\n",
    "\n",
    "    def decolar(self):\n",
    "        print(\"O avião está decolando\")"
   ]
  },
  {
   "cell_type": "code",
   "execution_count": 5,
   "metadata": {},
   "outputs": [],
   "source": [
    "lista_veiculos = [carro(\"Gol\", \"G4\"), moto(\"Honda\", \"CG150\"), aviao(\"Boeing\", \"777\")]"
   ]
  },
  {
   "cell_type": "code",
   "execution_count": 6,
   "metadata": {},
   "outputs": [
    {
     "name": "stdout",
     "output_type": "stream",
     "text": [
      "O carro está acelerando\n",
      "O carro está freando\n",
      "---\n",
      "A moto está acelerando\n",
      "A moto está freando\n",
      "---\n",
      "O avião está acelerando\n",
      "O avião está freando\n",
      "O avião está decolando\n",
      "---\n"
     ]
    }
   ],
   "source": [
    "for item in lista_veiculos:\n",
    "\n",
    "    item.acelerar()\n",
    "\n",
    "    item.frear()\n",
    "\n",
    "    if isinstance(item, aviao):\n",
    "        item.decolar()\n",
    "\n",
    "    print(\"---\")"
   ]
  }
 ],
 "metadata": {
  "kernelspec": {
   "display_name": "Python 3",
   "language": "python",
   "name": "python3"
  },
  "language_info": {
   "codemirror_mode": {
    "name": "ipython",
    "version": 3
   },
   "file_extension": ".py",
   "mimetype": "text/x-python",
   "name": "python",
   "nbconvert_exporter": "python",
   "pygments_lexer": "ipython3",
   "version": "3.11.1"
  }
 },
 "nbformat": 4,
 "nbformat_minor": 2
}
