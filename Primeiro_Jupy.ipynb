{
 "cells": [
  {
   "cell_type": "code",
   "execution_count": null,
   "id": "83a6cc6d-6c22-4cba-9e52-57734bc492e1",
   "metadata": {},
   "outputs": [],
   "source": [
    "print(\"Felas aqui\")"
   ]
  },
  {
   "cell_type": "code",
   "execution_count": null,
   "id": "85b1c1b2-5e02-4296-b08e-4626aa37f23e",
   "metadata": {
    "jupyter": {
     "outputs_hidden": true
    },
    "tags": []
   },
   "outputs": [],
   "source": [
    "numeros = list(range(1,101))\n",
    "\n",
    "for numero in numeros:\n",
    "    \n",
    "       if numero % 2 == 0 and numero % 4 == 0:\n",
    "        print(numero)"
   ]
  },
  {
   "cell_type": "code",
   "execution_count": null,
   "id": "68ccca52-5f61-4cae-bd33-bcacf7c81249",
   "metadata": {
    "tags": []
   },
   "outputs": [],
   "source": [
    "numeros = list(range(1,101))\n",
    "\n",
    "#List comprehension\n",
    "list_comprehension = [numero for numero in numeros if numero % 2 == 0 and numero % 4 == 0]\n",
    "   \n",
    "print(list_comprehension)\n"
   ]
  },
  {
   "cell_type": "code",
   "execution_count": null,
   "id": "d4ca1035-4c0f-4728-94d5-fbc575f9f393",
   "metadata": {},
   "outputs": [],
   "source": [
    "print(\"Bem vindo a calculadora de Área\")\n",
    "\n",
    "base = int(input(\"Digite o comprimento da base:\"))\n",
    "altura = int(input(\"Digite a altura da base:\"))\n",
    "\n",
    "area = base * altura\n",
    "\n",
    "print(\"O valor da área é de:\" ,area, \"metros !\")"
   ]
  },
  {
   "cell_type": "code",
   "execution_count": null,
   "id": "ea188f58-9371-4dfd-bb52-e783a640ae1f",
   "metadata": {},
   "outputs": [],
   "source": [
    "\n",
    "print(\"Bem vindo a calculadora simples\")\n",
    "\n",
    "numero1 = float(input(\"Digite o primeiro número:\"))\n",
    "numero2 = float(input(\"Digite o segundo número:\"))\n",
    "operacao = input(\"Informe qual operação você deseja fazer - Soma \\\n",
    "- Multiplicação - Divisão - Subtração -\")\n",
    "\n",
    "if operacao == \"Soma\":\n",
    "    resultado = numero1 + numero2\n",
    "    print(\"Resultado é igual a\", resultado, \"!\")\n",
    "    \n",
    "elif operacao == \"Divisão\":\n",
    "    resultado = numero1 / numero2\n",
    "    print(\"Resultado é igual a\", resultado, \"!\")\n",
    "    \n",
    "elif operacao == \"Multiplicação\":\n",
    "    resultado = numero1 * numero2\n",
    "    print(\"Resultado é igual a\", resultado, \"!\")\n",
    "    \n",
    "elif operacao == \"Subtração\":\n",
    "    resultado = numero1 - numero2\n",
    "    print(\"Resultado é igual a\", resultado, \"!\")\n",
    "    \n",
    "else:\n",
    "    print(\"Operação inválida !!!\")\n"
   ]
  },
  {
   "cell_type": "code",
   "execution_count": null,
   "id": "1365ce57-cd99-4def-844f-86c6273f459a",
   "metadata": {},
   "outputs": [],
   "source": [
    "print(\"Fazendo todos os Inputs possiveis\")\n",
    "\n",
    "real = float(input(\"Input do tipo float !\"))\n",
    "inteiro = int(input(\"Input do tipo Inteiro !\"))\n",
    "string = input(\"Input do tipo String !\") \n",
    "\n",
    "print(\"Estou printando um valor do tipo real, valor igual á\", real, \"!\")\n",
    "print(\"Estou printando um valor do tipo inteiro, valor igual á\", inteiro, \"!\")\n",
    "print(\"Estou printando um valor do tipo string, valor igual á\", string, \"!\")"
   ]
  },
  {
   "cell_type": "code",
   "execution_count": null,
   "id": "d552cf49-4f0b-43f9-b6fe-87995e3dea65",
   "metadata": {},
   "outputs": [],
   "source": [
    "lista = [10,22,58,66,99,44488,55,22,11]\n",
    "print(lista[0])"
   ]
  },
  {
   "cell_type": "code",
   "execution_count": null,
   "id": "f35462b0-7220-4bc0-80c6-bdf5f48a23f0",
   "metadata": {},
   "outputs": [],
   "source": [
    "lista = [10,22,58,66,99,44488,55,22,11]\n",
    "\n",
    "procura_vetor = int(input(\"Digite qual posição da lista que você vai querer saber!\"))\n",
    "\n",
    "print(\"A posição de número\", procura_vetor, \"é\", lista[procura_vetor],\"!\")"
   ]
  },
  {
   "cell_type": "code",
   "execution_count": null,
   "id": "78e2eb81-20e9-414f-b906-cf53307765f8",
   "metadata": {},
   "outputs": [],
   "source": [
    "lista = [10,23,22,58,66,99,44488,55,22,11]\n",
    "\n",
    "print(len(lista))"
   ]
  },
  {
   "cell_type": "code",
   "execution_count": null,
   "id": "6925aa71-76e2-408c-abec-ceefc504e347",
   "metadata": {},
   "outputs": [],
   "source": [
    "print(\"Aqui você vai inputar quantos numeros quiser e inserir na lista\")\n",
    "\n",
    "lista = [arr]\n",
    "\n",
    "    for inputa_lista in range lista:\n",
    "            inputa_lista = int(input(\"Digite um número para incluir na lista!\"))\n",
    "            lista = lista[inputa_lista]\n",
    "            lista = [i+1]\n",
    "        \n",
    "            if inputa_lista == \"fim\":\n",
    "            print(lista)\n",
    "                \n",
    "\n",
    "\n"
   ]
  },
  {
   "cell_type": "code",
   "execution_count": null,
   "id": "7d68e214-9d62-4785-bcae-002c7880daf4",
   "metadata": {},
   "outputs": [],
   "source": [
    "print(\"Aqui você vai inputar quantos números quiser e inserir na lista\")\n",
    "\n",
    "lista = []\n",
    "\n",
    "while True:\n",
    "    entrada = input(\"Digite um número para incluir na lista (ou 'fim' para encerrar): \")\n",
    "\n",
    "    if entrada.lower() == 'fim':\n",
    "        break  # Encerra o loop se o usuário digitar 'fim'\n",
    "    else:\n",
    "        try:\n",
    "            numero = int(entrada)\n",
    "            lista.append(numero)\n",
    "        except ValueError:\n",
    "            print(\"Por favor, insira um número válido.\")\n",
    "\n",
    "print(\"Lista final:\", lista)\n"
   ]
  },
  {
   "cell_type": "code",
   "execution_count": null,
   "id": "bab3fa3d-5ef5-4fbd-90da-4d6672e983fb",
   "metadata": {},
   "outputs": [],
   "source": [
    "lista1 = [1,2,3,4,5,6,7,8,9]\n",
    "\n",
    "for numero in lista1:\n",
    "    if numero % 2 == 0:\n",
    "        print(numero)"
   ]
  },
  {
   "cell_type": "code",
   "execution_count": null,
   "id": "a00d2d31-58bb-4f4f-96cb-ea857235ab72",
   "metadata": {},
   "outputs": [],
   "source": [
    "lista1 = [1,2,3,4,5,6,7,8,9]\n",
    "lista2 = [1,2,3,4,5,6,7,8,9]\n",
    "soma = 0\n",
    "\n",
    "for percorrer_listas in [lista1,lista2]:\n",
    "    for resultado in percorrer_listas:\n",
    "        if resultado % 2 == 0:\n",
    "            soma += resultado\n",
    "print(soma)"
   ]
  },
  {
   "cell_type": "code",
   "execution_count": null,
   "id": "0ac9ad50-88c3-4cdc-ae48-eb02778f4a68",
   "metadata": {},
   "outputs": [],
   "source": [
    "lista1 = [1,2,3,4,5,6,7,8,9]\n",
    "lista2 = [1,2,3,4,5,6,7,8,9]\n",
    "soma = 0\n",
    "\n",
    "for numeros_lista in lista1 + lista2:\n",
    "    if numeros_lista % 2 == 0:\n",
    "        soma += numeros_lista\n",
    "print(soma)"
   ]
  },
  {
   "cell_type": "code",
   "execution_count": null,
   "id": "5e1d61c0-eb3a-4e93-a4c5-4e435360d7ca",
   "metadata": {},
   "outputs": [],
   "source": [
    "lista1 = [1,2,3,4,5,6,7,8,9]\n",
    "maior = 0\n",
    "\n",
    "for numero in lista1:\n",
    "    if numero >= maior:\n",
    "        maior = numero\n",
    "print(maior)\n"
   ]
  },
  {
   "cell_type": "code",
   "execution_count": null,
   "id": "81e1ed67-8c09-4476-85b5-3b7c21d0e349",
   "metadata": {},
   "outputs": [],
   "source": [
    "loop = 0\n",
    "\n",
    "while loop <= 15:\n",
    "    print(loop)\n",
    "    loop = loop + 1   "
   ]
  },
  {
   "cell_type": "code",
   "execution_count": null,
   "id": "fb71cb18-910c-4696-aa1c-119cff727cb4",
   "metadata": {},
   "outputs": [],
   "source": [
    "#encontrar os numeros primos\n",
    "\n",
    "lista = [1,2,3,4,5,6,7,8,9,10,11,12,13,14,15,16,17,18,19,20]\n",
    "\n",
    "for primos in lista:\n",
    "    if primos / 10 == 2:\n",
    "        print(primos)\n"
   ]
  },
  {
   "cell_type": "code",
   "execution_count": null,
   "id": "ffb1a5eb-bc0b-4623-9ce7-9339b2ac62dd",
   "metadata": {},
   "outputs": [],
   "source": [
    "def primeiraFunc():\n",
    "    print(\"Hello Word\")"
   ]
  },
  {
   "cell_type": "code",
   "execution_count": null,
   "id": "0f835434-70f1-4e32-a788-786a1c4ed31e",
   "metadata": {},
   "outputs": [],
   "source": [
    "primeiraFunc()"
   ]
  },
  {
   "cell_type": "code",
   "execution_count": null,
   "id": "57c61637-ce96-48e4-a42d-e3f34b2224aa",
   "metadata": {},
   "outputs": [],
   "source": [
    "def segundaFunc():\n",
    "    nome = \"Felas\"\n",
    "    print(\"Hello Word %s\" %(nome))"
   ]
  },
  {
   "cell_type": "code",
   "execution_count": null,
   "id": "dc11e216-c263-4da4-b872-cbfadce8adcc",
   "metadata": {},
   "outputs": [],
   "source": [
    "segundaFunc()"
   ]
  },
  {
   "cell_type": "code",
   "execution_count": null,
   "id": "2143b00a-722d-4f42-91cd-f5554284fe69",
   "metadata": {},
   "outputs": [],
   "source": [
    "def terceiraFunc(nome):\n",
    "    print(\"Hello Word %s\" %(nome))"
   ]
  },
  {
   "cell_type": "code",
   "execution_count": null,
   "id": "c56f63c3-e7a6-422d-b5c4-bf6459d64ea5",
   "metadata": {},
   "outputs": [],
   "source": [
    "terceiraFunc(\"Felas\")"
   ]
  },
  {
   "cell_type": "code",
   "execution_count": null,
   "id": "13c95541-2fcb-4fe2-a287-1cbce47560b8",
   "metadata": {
    "tags": []
   },
   "outputs": [],
   "source": [
    "x = int(input(\"Digite um numero\"))\n",
    "y = int(input(\"Digite um numero\"))\n",
    "\n",
    "z = x + y\n",
    "\n",
    "print(z)"
   ]
  },
  {
   "cell_type": "code",
   "execution_count": null,
   "id": "90691668-4c47-4ef6-ac5b-85e80552d3f8",
   "metadata": {
    "tags": []
   },
   "outputs": [],
   "source": [
    "def calculoSoma():\n",
    "    x = int(input(\"Digite um numero\"))\n",
    "    y = int(input(\"Digite um numero\"))\n",
    "\n",
    "    z = x + y\n",
    "\n",
    "    print(z)\n"
   ]
  },
  {
   "cell_type": "code",
   "execution_count": null,
   "id": "56124424-678f-4986-85c9-47aff9006a0e",
   "metadata": {
    "tags": []
   },
   "outputs": [],
   "source": [
    "calculoSoma()"
   ]
  },
  {
   "cell_type": "code",
   "execution_count": 14,
   "id": "6a7b6282-222c-4a10-864b-f2e0937dd8fd",
   "metadata": {
    "scrolled": true
   },
   "outputs": [
    {
     "name": "stdout",
     "output_type": "stream",
     "text": [
      "Bem vindo a calculador em PY !!!\n",
      "\n",
      "1 - Soma\n",
      "2 - Subtração\n",
      "3 - Divisão\n",
      "4 - Multiplicação\n",
      "\n",
      "Escolha a função que deseja utilizar !! 2\n",
      "\n",
      "Digite o primeiro número:45\n",
      "Digite o segundo número:45\n",
      "\n",
      "O resultado da sua subtração é 0 !\n"
     ]
    }
   ],
   "source": [
    "print(\"Bem vindo a calculador em PY !!!\")\n",
    "print(\"\")\n",
    "\n",
    "print(\"1 - Soma\")\n",
    "print(\"2 - Subtração\")\n",
    "print(\"3 - Divisão\")\n",
    "print(\"4 - Multiplicação\")\n",
    "\n",
    "print(\"\")\n",
    "escolha = int(input(\"Escolha a função que deseja utilizar !! \"))\n",
    "print(\"\")\n",
    "\n",
    "if escolha == 1:\n",
    "    var1 = int(input(\"Digite o primeiro número:\"))\n",
    "    var2 = int(input(\"Digite o segundo número:\"))\n",
    "    print(\"\")\n",
    "    \n",
    "    var3 = var1 + var2\n",
    "    \n",
    "    print(\"O resultado da sua soma é\", var3, \"!\")\n",
    "    \n",
    "if escolha == 2:\n",
    "    var1 = int(input(\"Digite o primeiro número:\"))\n",
    "    var2 = int(input(\"Digite o segundo número:\"))\n",
    "    print(\"\")\n",
    "    \n",
    "    var3 = var1 - var2\n",
    "    \n",
    "    print(\"O resultado da sua subtração é\", var3, \"!\") \n",
    "\n",
    "if escolha == 3:\n",
    "    var1 = int(input(\"Digite o primeiro número:\"))\n",
    "    var2 = int(input(\"Digite o segundo número:\"))\n",
    "    print(\"\")\n",
    "    \n",
    "    var3 = var1 / var2\n",
    "    \n",
    "    print(\"O resultado da sua divisão é\", var3, \"!\")\n",
    "    \n",
    "if escolha == 4:\n",
    "    var1 = int(input(\"Digite o primeiro número:\"))\n",
    "    var2 = int(input(\"Digite o segundo número:\"))\n",
    "    print(\"\")\n",
    "    \n",
    "    var3 = var1 * var2\n",
    "    \n",
    "    print(\"O resultado da sua multiplicação é\", var3, \"!\")\n",
    "    \n",
    "if escolha < 1:\n",
    "    print(\"\")\n",
    "    print(\"Opção Inválida !!\")\n",
    "    print(\"Tente Novamente !!\")\n",
    "elif escolha > 4:\n",
    "    print(\"\")\n",
    "    print(\"Opção Inválida !!\")\n",
    "    print(\"Tente Novamente !!\")\n",
    "    \n",
    "\n"
   ]
  },
  {
   "cell_type": "code",
   "execution_count": null,
   "id": "29a4d46e",
   "metadata": {},
   "outputs": [],
   "source": [
    "\n",
    "\n",
    "\n",
    "\n",
    "                             if estudar and trabalhar and dedicar and persistir:\n",
    "                             print(\"Sucesso!!\")\n",
    "\n",
    "\n",
    "\n"
   ]
  },
  {
   "cell_type": "code",
   "execution_count": 4,
   "id": "57dd62f4",
   "metadata": {},
   "outputs": [],
   "source": [
    "arq1 = open(\"Exercícios DSA - 3/arquivos/arquivo1.txt\", \"r\") # r = read"
   ]
  },
  {
   "cell_type": "code",
   "execution_count": 5,
   "id": "61a625e8",
   "metadata": {},
   "outputs": [
    {
     "name": "stdout",
     "output_type": "stream",
     "text": [
      "<_io.TextIOWrapper name='Exercícios DSA - 3/arquivos/arquivo1.txt' mode='r' encoding='cp1252'>\n"
     ]
    }
   ],
   "source": [
    "print(arq1)"
   ]
  },
  {
   "cell_type": "code",
   "execution_count": 6,
   "id": "5eec86e3",
   "metadata": {},
   "outputs": [
    {
     "name": "stdout",
     "output_type": "stream",
     "text": [
      "A Data Science Academy fornece cursos de alta qualidade e que transmitem muito conhecimento.\n"
     ]
    }
   ],
   "source": [
    "print(arq1.read())"
   ]
  },
  {
   "cell_type": "code",
   "execution_count": 10,
   "id": "d4b65bce",
   "metadata": {
    "scrolled": true
   },
   "outputs": [
    {
     "name": "stdout",
     "output_type": "stream",
     "text": [
      "0\n"
     ]
    }
   ],
   "source": [
    "#Retornar para o Inicio do Arquivo\n",
    "print(arq1.seek(0,0))"
   ]
  },
  {
   "cell_type": "code",
   "execution_count": 11,
   "id": "7956a346",
   "metadata": {},
   "outputs": [
    {
     "name": "stdout",
     "output_type": "stream",
     "text": [
      "A Data Science Academy fornece cursos de alta qualidade e que transmitem muito conhecimento.\n"
     ]
    }
   ],
   "source": [
    "print(arq1.read())"
   ]
  },
  {
   "cell_type": "code",
   "execution_count": null,
   "id": "b6b8fe52",
   "metadata": {},
   "outputs": [],
   "source": []
  }
 ],
 "metadata": {
  "kernelspec": {
   "display_name": "Python 3 (ipykernel)",
   "language": "python",
   "name": "python3"
  },
  "language_info": {
   "codemirror_mode": {
    "name": "ipython",
    "version": 3
   },
   "file_extension": ".py",
   "mimetype": "text/x-python",
   "name": "python",
   "nbconvert_exporter": "python",
   "pygments_lexer": "ipython3",
   "version": "3.11.5"
  }
 },
 "nbformat": 4,
 "nbformat_minor": 5
}
