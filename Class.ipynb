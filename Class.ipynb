{
 "cells": [
  {
   "cell_type": "code",
   "execution_count": 1,
   "id": "0b0d165f-0f23-4c7f-98d4-76e37c87ce43",
   "metadata": {},
   "outputs": [],
   "source": [
    "class idade():\n",
    "    def __init__(self):\n",
    "        self.idade = 15\n",
    "    def imprime(self):\n",
    "        print(\"Idade igual à %d anos\" %(self.idade))"
   ]
  },
  {
   "cell_type": "code",
   "execution_count": 3,
   "id": "af0a4c6e-492a-4bf9-97dd-a223416ca359",
   "metadata": {
    "scrolled": true
   },
   "outputs": [],
   "source": [
    "idade1 = idade()"
   ]
  },
  {
   "cell_type": "code",
   "execution_count": 5,
   "id": "a909ba4e-0cc4-4b47-81b8-8b7d730e13e2",
   "metadata": {},
   "outputs": [
    {
     "data": {
      "text/plain": [
       "__main__.idade"
      ]
     },
     "execution_count": 5,
     "metadata": {},
     "output_type": "execute_result"
    }
   ],
   "source": [
    "type(idade1)"
   ]
  },
  {
   "cell_type": "code",
   "execution_count": 25,
   "id": "f20df701-beab-45f9-97d6-e90efe83632c",
   "metadata": {},
   "outputs": [
    {
     "name": "stdout",
     "output_type": "stream",
     "text": [
      "Idade igual à 15 anos\n"
     ]
    }
   ],
   "source": [
    "idade1.imprime()"
   ]
  },
  {
   "cell_type": "code",
   "execution_count": 27,
   "id": "98e9d5aa-ffe3-4c36-a1b4-53df45fedd92",
   "metadata": {},
   "outputs": [],
   "source": [
    "class anos():\n",
    "    def __init__(self,anos):\n",
    "        self.anos = anos\n",
    "    def imprime(self):\n",
    "        print(\"Você digitou o ano de %d\" %(self.anos))"
   ]
  },
  {
   "cell_type": "code",
   "execution_count": 29,
   "id": "7a4ffe08-a95e-4227-86c5-fa513342375f",
   "metadata": {},
   "outputs": [],
   "source": [
    "ano1 = anos(1986)"
   ]
  },
  {
   "cell_type": "code",
   "execution_count": 19,
   "id": "91c54be1-b235-4782-b1ce-0a883619b1c4",
   "metadata": {},
   "outputs": [
    {
     "data": {
      "text/plain": [
       "__main__.anos"
      ]
     },
     "execution_count": 19,
     "metadata": {},
     "output_type": "execute_result"
    }
   ],
   "source": [
    "type(ano1)"
   ]
  },
  {
   "cell_type": "code",
   "execution_count": 31,
   "id": "8f5291fd-cf2e-478f-b1d5-f9ff5c31b7a0",
   "metadata": {
    "scrolled": true
   },
   "outputs": [
    {
     "name": "stdout",
     "output_type": "stream",
     "text": [
      "Você digitou o ano de 1986\n"
     ]
    }
   ],
   "source": [
    "ano1.imprime()"
   ]
  },
  {
   "cell_type": "code",
   "execution_count": 33,
   "id": "c0fc100e-256b-49f5-9b00-8a3e349d03ad",
   "metadata": {},
   "outputs": [],
   "source": [
    "class id():\n",
    "    def __init__(self,id):\n",
    "        self.id = id\n",
    "    def imprime(self):\n",
    "        print(\"O id do usuário é: %d\" %(self.id))"
   ]
  },
  {
   "cell_type": "code",
   "execution_count": 37,
   "id": "0724ebf6-e528-4fba-9a23-cdb609595275",
   "metadata": {},
   "outputs": [],
   "source": [
    "id1 = id(99835636)"
   ]
  },
  {
   "cell_type": "code",
   "execution_count": 39,
   "id": "c675ecf4-99c4-4882-8e0d-57ebbd3403f8",
   "metadata": {},
   "outputs": [
    {
     "name": "stdout",
     "output_type": "stream",
     "text": [
      "O id do usuário é: 99835636\n"
     ]
    }
   ],
   "source": [
    "id1.imprime()"
   ]
  },
  {
   "cell_type": "code",
   "execution_count": 43,
   "id": "b64001ca-4f69-4eee-9494-b9d49561cc8b",
   "metadata": {},
   "outputs": [],
   "source": [
    "class user():\n",
    "    def __init__(self,user):\n",
    "        self.user = user\n",
    "    def imprime(self):\n",
    "        print(\"O nome do user é: %s\" %(self.user)) "
   ]
  },
  {
   "cell_type": "code",
   "execution_count": 47,
   "id": "265b07a3-42bf-4c9e-9c1e-a93572638b1e",
   "metadata": {
    "scrolled": true
   },
   "outputs": [],
   "source": [
    "user1 = user(\"Felas\")"
   ]
  },
  {
   "cell_type": "code",
   "execution_count": 51,
   "id": "1b940988-07ad-4e2b-a53b-807c4574adfa",
   "metadata": {},
   "outputs": [
    {
     "name": "stdout",
     "output_type": "stream",
     "text": [
      "O nome do user é: Felas\n"
     ]
    }
   ],
   "source": [
    "user1.imprime()"
   ]
  },
  {
   "cell_type": "code",
   "execution_count": 53,
   "id": "9c3f28c4-e543-496c-9f2e-35f447f369ba",
   "metadata": {},
   "outputs": [],
   "source": [
    "class jogo():\n",
    "    def __init__(self,jogo):\n",
    "        self.jogo = jogo\n",
    "    def imprime(self):\n",
    "        print(\"O nome do jogo é: %s\" %(self.jogo))"
   ]
  },
  {
   "cell_type": "code",
   "execution_count": 59,
   "id": "fd1d5ba9-0817-409c-b819-037abca57758",
   "metadata": {},
   "outputs": [],
   "source": [
    "jogo1 = jogo(\"Corinthians\")"
   ]
  },
  {
   "cell_type": "code",
   "execution_count": 61,
   "id": "97b80ef8-d647-44db-a1c8-7561071c17cc",
   "metadata": {},
   "outputs": [
    {
     "name": "stdout",
     "output_type": "stream",
     "text": [
      "O nome do jogo é: Corinthians\n"
     ]
    }
   ],
   "source": [
    "jogo1.imprime()"
   ]
  },
  {
   "cell_type": "code",
   "execution_count": 63,
   "id": "e6128768-ff78-4dd9-876e-e94bef991587",
   "metadata": {},
   "outputs": [],
   "source": [
    "class empresa():\n",
    "\n",
    "    def __init__(self,empresa):\n",
    "        self.empresa = empresa\n",
    "        \n",
    "    def imprime(self):\n",
    "        print(\"O nome da empresa é: %s\" %(self.empresa))   "
   ]
  },
  {
   "cell_type": "code",
   "execution_count": 69,
   "id": "2c5e1889-29d9-41b4-b7ba-eedbd5956939",
   "metadata": {
    "scrolled": true
   },
   "outputs": [],
   "source": [
    "empresa1 = empresa(\"Ambev\")"
   ]
  },
  {
   "cell_type": "code",
   "execution_count": 71,
   "id": "32b711b1-9b7b-4442-9382-3da6975d59de",
   "metadata": {},
   "outputs": [
    {
     "name": "stdout",
     "output_type": "stream",
     "text": [
      "O nome da empresa é: Ambev\n"
     ]
    }
   ],
   "source": [
    "empresa1.imprime()"
   ]
  },
  {
   "cell_type": "code",
   "execution_count": 73,
   "id": "ecf2075f-315c-478c-9600-1a415e5f45c1",
   "metadata": {},
   "outputs": [],
   "source": [
    "class goleiro():\n",
    "    def __init__(self, goleiro):\n",
    "        self.goleiro = goleiro\n",
    "    def imprime(self):\n",
    "        print(\"O nome do goleiro é: %s\" %(self.goleiro))"
   ]
  },
  {
   "cell_type": "code",
   "execution_count": 77,
   "id": "abab1d46-d638-4bd8-a9c0-69299824f6dd",
   "metadata": {},
   "outputs": [],
   "source": [
    "goleiro_botafogo = goleiro(\"Cassio\")"
   ]
  },
  {
   "cell_type": "code",
   "execution_count": 79,
   "id": "7d43a2d9-1964-4b1b-a645-199358ebbb0d",
   "metadata": {},
   "outputs": [
    {
     "data": {
      "text/plain": [
       "__main__.goleiro"
      ]
     },
     "execution_count": 79,
     "metadata": {},
     "output_type": "execute_result"
    }
   ],
   "source": [
    "type(goleiro_botafogo)"
   ]
  },
  {
   "cell_type": "code",
   "execution_count": 81,
   "id": "6febd245-6633-4a30-89d4-8994d248e306",
   "metadata": {},
   "outputs": [
    {
     "name": "stdout",
     "output_type": "stream",
     "text": [
      "O nome do goleiro é: Cassio\n"
     ]
    }
   ],
   "source": [
    "goleiro_botafogo.imprime()"
   ]
  },
  {
   "cell_type": "code",
   "execution_count": 85,
   "id": "101b24d7-6b5e-4386-8fc4-eaa176c071d5",
   "metadata": {},
   "outputs": [],
   "source": [
    "class projeto():\n",
    "    def __init__(self,nome_projeto):\n",
    "        self.projeto = nome_projeto \n",
    "    def imprime(self):\n",
    "        print(\"O nome do projeto é: %s\" %(self.projeto))"
   ]
  },
  {
   "cell_type": "code",
   "execution_count": 95,
   "id": "750002fb-8966-4518-a032-d3768c5793de",
   "metadata": {},
   "outputs": [],
   "source": [
    "projeto1 = projeto(\"Sorba\")"
   ]
  },
  {
   "cell_type": "code",
   "execution_count": 97,
   "id": "71f5a6f0-4c10-4ab2-bc37-b5b23dfa87dd",
   "metadata": {},
   "outputs": [
    {
     "name": "stdout",
     "output_type": "stream",
     "text": [
      "O nome do projeto é: Sorba\n"
     ]
    }
   ],
   "source": [
    "projeto1.imprime()"
   ]
  },
  {
   "cell_type": "code",
   "execution_count": 99,
   "id": "4adc6793-928a-4d05-85c1-fd296bdcc6c8",
   "metadata": {},
   "outputs": [],
   "source": [
    "class estudantes():\n",
    "    def __init__(self, nome, idade, ano):\n",
    "        self.nome = nome\n",
    "        self.idade = idade\n",
    "        self.ano = ano\n",
    "\n",
    "    def imprime(self):\n",
    "        print(\"O nome do aluno é: %s, a idade é: %d, o ano do aluno é: %d\" %(self.nome, self.idade, self.ano))\n",
    "    "
   ]
  },
  {
   "cell_type": "code",
   "execution_count": 101,
   "id": "79f8c25c-2013-47c4-9bca-90a122c21eb9",
   "metadata": {},
   "outputs": [],
   "source": [
    "estudante1 = estudantes(\"Felipe\", 20, 1998)"
   ]
  },
  {
   "cell_type": "code",
   "execution_count": 105,
   "id": "68856fac-4251-4319-b65d-1396c2e7b17c",
   "metadata": {},
   "outputs": [
    {
     "name": "stdout",
     "output_type": "stream",
     "text": [
      "O nome do aluno é: Felipe, a idade é: 20, o ano do aluno é: 1998\n"
     ]
    }
   ],
   "source": [
    "estudante1.imprime()"
   ]
  },
  {
   "cell_type": "code",
   "execution_count": 130,
   "id": "5b33703c-7c1c-4e16-8378-5f715e8b0e70",
   "metadata": {},
   "outputs": [],
   "source": [
    "class investimentos():\n",
    "    def __init__(self, nome, valor_investido):\n",
    "        self.nome = nome\n",
    "        self.valor_investido = valor_investido\n",
    "    def imprime(self):\n",
    "        print(\"O valor total investido do %s é de: %d\" %(self.nome, self.valor_investido))"
   ]
  },
  {
   "cell_type": "code",
   "execution_count": 136,
   "id": "28c0e6b2-984e-449d-b00f-65a366a5dc7f",
   "metadata": {
    "scrolled": true
   },
   "outputs": [],
   "source": [
    "felipe = investimentos(\"Felipe\",255000)"
   ]
  },
  {
   "cell_type": "code",
   "execution_count": 138,
   "id": "f1eb2fad-2de1-46d3-9609-24398ca13ea7",
   "metadata": {
    "scrolled": true
   },
   "outputs": [
    {
     "name": "stdout",
     "output_type": "stream",
     "text": [
      "O valor total investido do Felipe é de: 255000\n"
     ]
    }
   ],
   "source": [
    "felipe.imprime()"
   ]
  },
  {
   "cell_type": "code",
   "execution_count": 34,
   "id": "4caa6391",
   "metadata": {},
   "outputs": [],
   "source": [
    "class circulo():\n",
    "    \n",
    "    #Constante PI\n",
    "    pi = 3.14\n",
    "    \n",
    "    #Criei o construtor\n",
    "    def __init__(self, raio = 5):\n",
    "        self.raio = raio\n",
    "    \n",
    "    def set_raio(self, novo_raio):\n",
    "        self.raio = novo_raio\n",
    "    \n",
    "    def get_raio(self):\n",
    "        return self.raio\n",
    "    \n",
    "    def area(self):\n",
    "        return (self.raio * self.raio) * circulo.pi\n",
    "        \n",
    "        \n",
    "                 "
   ]
  },
  {
   "cell_type": "code",
   "execution_count": 35,
   "id": "dfd95582",
   "metadata": {},
   "outputs": [],
   "source": [
    "circulo = circulo(89)"
   ]
  },
  {
   "cell_type": "code",
   "execution_count": 36,
   "id": "47ca280d",
   "metadata": {},
   "outputs": [
    {
     "name": "stdout",
     "output_type": "stream",
     "text": [
      "24871.940000000002\n"
     ]
    }
   ],
   "source": [
    "print(circulo.area())"
   ]
  },
  {
   "cell_type": "code",
   "execution_count": 20,
   "id": "f9f704ee",
   "metadata": {},
   "outputs": [],
   "source": [
    "circ1 = circulo(10)"
   ]
  },
  {
   "cell_type": "code",
   "execution_count": 22,
   "id": "f3f0ce0d",
   "metadata": {},
   "outputs": [
    {
     "name": "stdout",
     "output_type": "stream",
     "text": [
      "314.0\n"
     ]
    }
   ],
   "source": [
    "print(circ1.area())"
   ]
  }
 ],
 "metadata": {
  "kernelspec": {
   "display_name": "Python 3 (ipykernel)",
   "language": "python",
   "name": "python3"
  },
  "language_info": {
   "codemirror_mode": {
    "name": "ipython",
    "version": 3
   },
   "file_extension": ".py",
   "mimetype": "text/x-python",
   "name": "python",
   "nbconvert_exporter": "python",
   "pygments_lexer": "ipython3",
   "version": "3.12.3"
  }
 },
 "nbformat": 4,
 "nbformat_minor": 5
}
